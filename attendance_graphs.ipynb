{
 "metadata": {
  "language_info": {
   "codemirror_mode": {
    "name": "ipython",
    "version": 3
   },
   "file_extension": ".py",
   "mimetype": "text/x-python",
   "name": "python",
   "nbconvert_exporter": "python",
   "pygments_lexer": "ipython3",
   "version": "3.8.3-final"
  },
  "orig_nbformat": 2,
  "kernelspec": {
   "name": "Python 3.8.3 64-bit ('base': conda)",
   "display_name": "Python 3.8.3 64-bit ('base': conda)",
   "metadata": {
    "interpreter": {
     "hash": "2487f29d041beb0d8628f3b8476575b3b503ae3d8a5f44c0c5b808e52fbe0125"
    }
   }
  }
 },
 "nbformat": 4,
 "nbformat_minor": 2,
 "cells": [
  {
   "source": [
    "### merge csv files by column"
   ],
   "cell_type": "markdown",
   "metadata": {}
  },
  {
   "source": [
    "#### setup"
   ],
   "cell_type": "markdown",
   "metadata": {}
  },
  {
   "cell_type": "code",
   "execution_count": 1,
   "metadata": {},
   "outputs": [],
   "source": [
    "import os\n",
    "import pandas as pd\n",
    "import seaborn as sns\n",
    "\n",
    "# enter working directory for CSV files\n",
    "os.chdir(r\"C:\\Users\\Zack\\Desktop\\work\\T-Mobile\\CSAM\\meeting attendance\")"
   ]
  },
  {
   "source": [
    "#### get and check file data"
   ],
   "cell_type": "markdown",
   "metadata": {}
  },
  {
   "cell_type": "code",
   "execution_count": 5,
   "metadata": {},
   "outputs": [
    {
     "output_type": "execute_result",
     "data": {
      "text/plain": [
       "   Participant              Name                           Email        Date  \\\n",
       "0            1   Gregory Jackson     greg.s.jackson@t-mobile.com  10/12/2020   \n",
       "1            2         Amy Young       amy.young125@t-mobile.com  10/12/2020   \n",
       "2            3     Tim Dillinger      tim.dillinger@t-mobile.com  10/12/2020   \n",
       "3            4  Claudia Rybienik  claudia.rybienik1@t-mobile.com  10/12/2020   \n",
       "4            5     Linda Rosario      Linda.X.Rosario@sprint.com  10/12/2020   \n",
       "\n",
       "  Invited Registered Start time  End time Duration   Company  \\\n",
       "0      No        Yes   12:02 pm  12:49 pm  48 mins       NaN   \n",
       "1      No        Yes   12:31 pm   1:01 pm  30 mins  T-Mobile   \n",
       "2      No        Yes   11:57 am   1:01 pm  65 mins  T-Mobile   \n",
       "3      No        Yes   11:57 am   1:00 pm  63 mins       NaN   \n",
       "4      No         No   11:57 am   1:01 pm  64 mins       NaN   \n",
       "\n",
       "                        Title Phone Number Address 1 Address 2 City  \\\n",
       "0  Sr. Instructional Designer          NaN       NaN       NaN  NaN   \n",
       "1                     analyst          NaN       NaN       NaN  NaN   \n",
       "2      Engineer Cybersecurity          NaN       NaN       NaN  NaN   \n",
       "3                         NaN          NaN       NaN       NaN  NaN   \n",
       "4                         NaN          NaN       NaN       NaN  NaN   \n",
       "\n",
       "  State/Province Zip/Postal Code Country/region Network joined from:  \n",
       "0            NaN             NaN            NaN             External  \n",
       "1            NaN             NaN            NaN             External  \n",
       "2             KS             NaN  United States             External  \n",
       "3            NaN             NaN            NaN             External  \n",
       "4            NaN             NaN            NaN             External  "
      ],
      "text/html": "<div>\n<style scoped>\n    .dataframe tbody tr th:only-of-type {\n        vertical-align: middle;\n    }\n\n    .dataframe tbody tr th {\n        vertical-align: top;\n    }\n\n    .dataframe thead th {\n        text-align: right;\n    }\n</style>\n<table border=\"1\" class=\"dataframe\">\n  <thead>\n    <tr style=\"text-align: right;\">\n      <th></th>\n      <th>Participant</th>\n      <th>Name</th>\n      <th>Email</th>\n      <th>Date</th>\n      <th>Invited</th>\n      <th>Registered</th>\n      <th>Start time</th>\n      <th>End time</th>\n      <th>Duration</th>\n      <th>Company</th>\n      <th>Title</th>\n      <th>Phone Number</th>\n      <th>Address 1</th>\n      <th>Address 2</th>\n      <th>City</th>\n      <th>State/Province</th>\n      <th>Zip/Postal Code</th>\n      <th>Country/region</th>\n      <th>Network joined from:</th>\n    </tr>\n  </thead>\n  <tbody>\n    <tr>\n      <th>0</th>\n      <td>1</td>\n      <td>Gregory Jackson</td>\n      <td>greg.s.jackson@t-mobile.com</td>\n      <td>10/12/2020</td>\n      <td>No</td>\n      <td>Yes</td>\n      <td>12:02 pm</td>\n      <td>12:49 pm</td>\n      <td>48 mins</td>\n      <td>NaN</td>\n      <td>Sr. Instructional Designer</td>\n      <td>NaN</td>\n      <td>NaN</td>\n      <td>NaN</td>\n      <td>NaN</td>\n      <td>NaN</td>\n      <td>NaN</td>\n      <td>NaN</td>\n      <td>External</td>\n    </tr>\n    <tr>\n      <th>1</th>\n      <td>2</td>\n      <td>Amy Young</td>\n      <td>amy.young125@t-mobile.com</td>\n      <td>10/12/2020</td>\n      <td>No</td>\n      <td>Yes</td>\n      <td>12:31 pm</td>\n      <td>1:01 pm</td>\n      <td>30 mins</td>\n      <td>T-Mobile</td>\n      <td>analyst</td>\n      <td>NaN</td>\n      <td>NaN</td>\n      <td>NaN</td>\n      <td>NaN</td>\n      <td>NaN</td>\n      <td>NaN</td>\n      <td>NaN</td>\n      <td>External</td>\n    </tr>\n    <tr>\n      <th>2</th>\n      <td>3</td>\n      <td>Tim Dillinger</td>\n      <td>tim.dillinger@t-mobile.com</td>\n      <td>10/12/2020</td>\n      <td>No</td>\n      <td>Yes</td>\n      <td>11:57 am</td>\n      <td>1:01 pm</td>\n      <td>65 mins</td>\n      <td>T-Mobile</td>\n      <td>Engineer Cybersecurity</td>\n      <td>NaN</td>\n      <td>NaN</td>\n      <td>NaN</td>\n      <td>NaN</td>\n      <td>KS</td>\n      <td>NaN</td>\n      <td>United States</td>\n      <td>External</td>\n    </tr>\n    <tr>\n      <th>3</th>\n      <td>4</td>\n      <td>Claudia Rybienik</td>\n      <td>claudia.rybienik1@t-mobile.com</td>\n      <td>10/12/2020</td>\n      <td>No</td>\n      <td>Yes</td>\n      <td>11:57 am</td>\n      <td>1:00 pm</td>\n      <td>63 mins</td>\n      <td>NaN</td>\n      <td>NaN</td>\n      <td>NaN</td>\n      <td>NaN</td>\n      <td>NaN</td>\n      <td>NaN</td>\n      <td>NaN</td>\n      <td>NaN</td>\n      <td>NaN</td>\n      <td>External</td>\n    </tr>\n    <tr>\n      <th>4</th>\n      <td>5</td>\n      <td>Linda Rosario</td>\n      <td>Linda.X.Rosario@sprint.com</td>\n      <td>10/12/2020</td>\n      <td>No</td>\n      <td>No</td>\n      <td>11:57 am</td>\n      <td>1:01 pm</td>\n      <td>64 mins</td>\n      <td>NaN</td>\n      <td>NaN</td>\n      <td>NaN</td>\n      <td>NaN</td>\n      <td>NaN</td>\n      <td>NaN</td>\n      <td>NaN</td>\n      <td>NaN</td>\n      <td>NaN</td>\n      <td>External</td>\n    </tr>\n  </tbody>\n</table>\n</div>"
     },
     "metadata": {},
     "execution_count": 5
    }
   ],
   "source": [
    "attendance_df = pd.read_csv(\"combined_attendance.csv\")\n",
    "attendance_df.head()\n",
    "\n",
    "# just want the time attended\n",
    "# trimmed_df = attendance_df[[\"Date\", \"Start time\", \"End time\", \"Duration\"]].copy()\n",
    "# trimmed_df.head()"
   ]
  },
  {
   "source": [
    "#### play with data"
   ],
   "cell_type": "markdown",
   "metadata": {}
  },
  {
   "cell_type": "code",
   "execution_count": 6,
   "metadata": {},
   "outputs": [
    {
     "output_type": "stream",
     "name": "stdout",
     "text": [
      "preparing Attendance of LnLs...\n['10/12/2020' '10/9/2020' '10/22/2020' '10/21/2020']\n"
     ]
    }
   ],
   "source": [
    "# graph dimensions and name\n",
    "sns.set(rc={'figure.figsize':(16,8)})\n",
    "g_name = 'Attendance of LnLs'\n",
    "print(\"preparing \" + g_name + \"...\")\n",
    "\n",
    "dates = trimmed_df[\"Date\"].unique()\n",
    "print(dates)\n",
    "# trimmed_df.dtypes\n",
    "practice = trimmed_df.copy()\n",
    "\n",
    "\n",
    "\n",
    "# # get sets of top mechanics\n",
    "# dice_games = adj_mechs(recent_all, 'Dice Rolling')\n",
    "# hand_games = adj_mechs(recent_all, 'Hand Management')\n",
    "# var_games = adj_mechs(recent_all, 'Variable Player Powers')\n",
    "# set_games = adj_mechs(recent_all, 'Set Collection')\n",
    "# mod_games = adj_mechs(recent_all, 'Modular Board')\n",
    "# draft_games = adj_mechs(recent_all, 'Card Drafting')\n",
    "# hex_games = adj_mechs(recent_all, 'Hexagon Grid')\n",
    "# coop_games = adj_mechs(recent_all, 'Cooperative Game')\n",
    "# tile_games = adj_mechs(recent_all, 'Tile Placement')\n",
    "# area_games = adj_mechs(recent_all, 'Area Majority / Influence')\n",
    "\n",
    "# # plot and print\n",
    "# sns.kdeplot(dice_games['year'], shade=True, bw=0.125, label='Dice Rolling')\n",
    "# sns.kdeplot(hand_games['year'], shade=True, bw=0.125, label='Hand Management')\n",
    "# sns.kdeplot(var_games['year'], shade=True, bw=0.125, label='Variable Powers')\n",
    "# sns.kdeplot(set_games['year'], shade=True, bw=0.125, label='Set Collection')\n",
    "# sns.kdeplot(mod_games['year'], shade=True, bw=0.125, label='Modular Board')\n",
    "# sns.kdeplot(draft_games['year'], shade=True, bw=0.125, label='Card Drafting')\n",
    "# sns.kdeplot(hex_games['year'], shade=True, bw=0.125, label='Hexagon Grid')\n",
    "# sns.kdeplot(coop_games['year'], shade=True, bw=0.125, label='Cooperative Game')\n",
    "# sns.kdeplot(tile_games['year'], shade=True, bw=0.125, label='Tile Placement')\n",
    "# sns.kdeplot(area_games['year'], shade=True, bw=0.125, label='Area Majority')\n",
    "\n",
    "# if want_file:   plt.savefig(graphs_loc + g_name, bbox_inches='tight')\n",
    "# if want_display:    plt.show()\n",
    "# print(g_name + \" completed!\")"
   ]
  },
  {
   "cell_type": "code",
   "execution_count": null,
   "metadata": {},
   "outputs": [],
   "source": []
  }
 ]
}