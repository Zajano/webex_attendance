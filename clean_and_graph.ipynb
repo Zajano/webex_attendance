{
 "metadata": {
  "language_info": {
   "codemirror_mode": {
    "name": "ipython",
    "version": 3
   },
   "file_extension": ".py",
   "mimetype": "text/x-python",
   "name": "python",
   "nbconvert_exporter": "python",
   "pygments_lexer": "ipython3",
   "version": "3.8.3-final"
  },
  "orig_nbformat": 2,
  "kernelspec": {
   "name": "python3",
   "display_name": "Python 3.8.3 64-bit (conda)",
   "metadata": {
    "interpreter": {
     "hash": "2487f29d041beb0d8628f3b8476575b3b503ae3d8a5f44c0c5b808e52fbe0125"
    }
   }
  }
 },
 "nbformat": 4,
 "nbformat_minor": 2,
 "cells": [
  {
   "source": [
    "## Clean and graph each CSV instead of combining"
   ],
   "cell_type": "markdown",
   "metadata": {}
  },
  {
   "source": [
    "#### setup"
   ],
   "cell_type": "markdown",
   "metadata": {}
  },
  {
   "cell_type": "code",
   "execution_count": null,
   "metadata": {},
   "outputs": [],
   "source": [
    "import os, glob\n",
    "import pandas as pd\n",
    "import seaborn as sns\n",
    "import numpy as np\n",
    "\n",
    "current_dir = os.getcwd()\n",
    "# enter working directory for CSV files\n",
    "# personal\n",
    "os.chdir(r\"C:\\Users\\Zack\\Desktop\\work\\T-Mobile\\data\\CSAM data\\attendance\\LnLs\")\n",
    "# work\n",
    "# os.chdir(r\"C:\\Users\\Zjaffen1\\Desktop\\CSAM data\\attendance\\LnLs\")\n",
    "# os.chdir(r\"C:\\Users\\Zjaffen1\\Desktop\\CSAM data\\attendance\\webex\")"
   ]
  },
  {
   "source": [
    "#### get and check file names"
   ],
   "cell_type": "markdown",
   "metadata": {}
  },
  {
   "cell_type": "code",
   "execution_count": null,
   "metadata": {},
   "outputs": [],
   "source": [
    "# build list of file names and check\n",
    "extension = 'csv'\n",
    "all_filenames = [i for i in glob.glob('*.{}'.format(extension))]\n",
    "\n",
    "# print list to check\n",
    "# DISABLE OR LIMIT RANGE if there are a lot of files\n",
    "for i in range(len(all_filenames)):\n",
    "    print(all_filenames[i])"
   ]
  },
  {
   "source": [
    "#### function for converting entry/leave times into int minute values"
   ],
   "cell_type": "markdown",
   "metadata": {}
  },
  {
   "cell_type": "code",
   "execution_count": null,
   "metadata": {},
   "outputs": [],
   "source": [
    "def time_to_minutes(str_time):\n",
    "    ''' takes time string in format : '12:02 pm'\n",
    "        returns int of minutes      :  722'''\n",
    "\n",
    "    time, period= str_time.split(' ')\n",
    "    hour, minute = map(int, time.split(':'))\n",
    "    if period.lower() == 'pm' and hour < 12:\n",
    "        hour += 12\n",
    "    return hour*60 + minute"
   ]
  },
  {
   "cell_type": "code",
   "execution_count": null,
   "metadata": {},
   "outputs": [],
   "source": [
    "def attendance_tracker(diff_tracker, enter_time, leave_time, email_tracker, email, num_meetings):\n",
    "    '''takes:   dict of difference tracker for how many people entered/left at that minute\n",
    "                enter and leave time from dataframe for dict keys\n",
    "                email for tracking between multiple meetings'''\n",
    "    # how many people left or entered during a given minute\n",
    "    diff_tracker[enter_time] += 1\n",
    "    diff_tracker[leave_time] -= 1\n",
    "\n",
    "    # for multiple meetings\n",
    "    if email in email_tracker:\n",
    "        # to make sure multiple drop/joins don't go over possible number of meetings\n",
    "        if email_tracker[email] < num_meetings:\n",
    "                email_tracker[email] += 1\n",
    "    else:\n",
    "        email_tracker[email] = 1\n",
    "    "
   ]
  },
  {
   "cell_type": "code",
   "execution_count": null,
   "metadata": {},
   "outputs": [],
   "source": [
    "def minutes_to_time(int_min):\n",
    "    ''' takes int of minutes: '722'\n",
    "        returns str of time :  '12:02 pm' '''\n",
    "    hour = int_min // 60\n",
    "    mins = (int_min / 60 - hour) * 60\n",
    "    if hour >= 12:\n",
    "        if hour > 12: hour -= 12\n",
    "        if mins < 10: mins = \"0\" + str(mins)\n",
    "        return str(hour)+\":\"+str(mins)+\" pm\"\n",
    "    return str(hour)+\":\"+str(mins)+\" am\""
   ]
  },
  {
   "source": [
    "#### create data frames for each CSV and clean"
   ],
   "cell_type": "markdown",
   "metadata": {}
  },
  {
   "cell_type": "code",
   "execution_count": null,
   "metadata": {
    "tags": []
   },
   "outputs": [],
   "source": [
    "\n",
    "# list of dataframes for attendance data\n",
    "# skips rows with meeting title \n",
    "file_df_list = [pd.read_csv(f, sep=\"\\t\", skiprows=[0,1], encoding=\"utf-16-le\") for f in all_filenames]\n",
    "\n",
    "# dataframe for tracking stats of meetings\n",
    "stat_cols = [\"Event\", \"Attendees\", \"Avg Stay\"]\n",
    "event_stats = pd.DataFrame(columns=stat_cols)\n",
    "\n",
    "# for trimming meeting based on start time\n",
    "trim_times = {\"no\": 0, \"yes\": 1, \"No\": 0, \"Yes\": 1, \"n\": 0, \"y\": 1, \"N\": 0, \"Y\": 1}\n",
    "print(\"Would you like to trim the attendance graph based on start times for each meeting?\")\n",
    "print(\"You will need to enter a time for each meeting.\")\n",
    "while True:\n",
    "    try:\n",
    "        trimmed = trim_times[input(\"yes/no: \")]\n",
    "    except KeyError:\n",
    "        print(\"Sorry, please only enter 'yes' or 'no'.\")\n",
    "        continue\n",
    "    else:\n",
    "        if trimmed:\n",
    "            print(\"Only enter times in the format of 'HH:MM pm/am'\")\n",
    "        break"
   ]
  },
  {
   "cell_type": "code",
   "execution_count": null,
   "metadata": {},
   "outputs": [],
   "source": [
    "# loop to organize and export data\n",
    "events = []           # list of col names from files\n",
    "minute_lists = []   # list of lists with attendence number by the minute\n",
    "num_attended = {}   # number of events attended by each person\n",
    "avg_durations = []  # average attendee stay in each event\n",
    "num_attendees = []  # how many people attended each event\n",
    "num_meetings = len(all_filenames)\n",
    "for i in range(num_meetings):\n",
    "    # change event dates to names based on file names\n",
    "    event = all_filenames[i][:len(all_filenames[i])-4]\n",
    "    file_df_list[i].rename(columns={\"Date\": \"Event\"}, inplace = True)\n",
    "    file_df_list[i]['Event'] = event\n",
    "    events.append(event)\n",
    "\n",
    "    # change 'Duration from string to int value\n",
    "    file_df_list[i]['Duration'] = file_df_list[i]['Duration'].apply(lambda x: int(x.split(' ')[0]))\n",
    "\n",
    "    # change start/stop time to minute value, lower all emails to same case\n",
    "    file_df_list[i]['Start time'] = file_df_list[i]['Start time'].apply(time_to_minutes)\n",
    "    file_df_list[i]['End time'] = file_df_list[i]['End time'].apply(time_to_minutes)\n",
    "    file_df_list[i]['Email'] = file_df_list[i]['Email'].apply(lambda x: x.lower())\n",
    "\n",
    "    # meeting start and end\n",
    "    start = file_df_list[i]['Start time'].min()\n",
    "    end = file_df_list[i]['End time'].max()\n",
    "    diff = end - start\n",
    "\n",
    "    # get valid input for starting time\n",
    "    current_start = minutes_to_time(start) # need to convert back and forth to find minimum\n",
    "    if trimmed:\n",
    "        print(\"Current start time of \", event, \"is \", current_start, \".\")\n",
    "        while True:\n",
    "            try:\n",
    "                start_time = time_to_minutes(input(\"New starting time: \")) - start\n",
    "            except ValueError:\n",
    "                print(\"Sorry, that time is not the correct format.\")\n",
    "                print(\"Valid time examples: '01:01 pm', '1:01 pm', '10:01 am'\")\n",
    "                continue\n",
    "            else:\n",
    "                break\n",
    "\n",
    "    # create absolute minutes columns\n",
    "    file_df_list[i]['Min Joined'] = file_df_list[i]['Start time'].apply(lambda x: x - start)\n",
    "    file_df_list[i]['Min Left'] = file_df_list[i]['End time'].apply(lambda x: x - start)\n",
    "\n",
    "    # initialize minutes counter\n",
    "    diffs = [0] * (file_df_list[i]['Min Left'].max() + 1)\n",
    "    mins = [0] * (file_df_list[i]['Min Left'].max() + 1)\n",
    "\n",
    "    # iterate through attendees and add/subtract to minute attendance, track email attendance\n",
    "    file_df_list[i].apply(lambda row: attendance_tracker(diffs, row['Min Joined'], row['Min Left'], \\\n",
    "                                                        num_attended, row['Email'], num_meetings), axis=1)\n",
    "    \n",
    "    duration_total = 0\n",
    "    for index, row in file_df_list[i].iterrows():\n",
    "        duration_total += row['Duration']\n",
    "    \n",
    "    # track average attendee stay for each meeting, round up\n",
    "    duration_total = file_df_list[i]['Duration'].sum()\n",
    "    unique_attendees = file_df_list[i]['Email'].nunique()\n",
    "    avg_durations.append(-(-duration_total // unique_attendees))\n",
    "    num_attendees.append(unique_attendees)\n",
    "    \n",
    "    # current attendees in meeting at specific minute\n",
    "    total = 0\n",
    "    for i in range(len(diffs)):\n",
    "        total += diffs[i]\n",
    "        mins[i] = total\n",
    "\n",
    "    # null-out last minute to prevent \"0\" on graph\n",
    "    mins[len(mins)-1] = np.nan\n",
    "\n",
    "    # trim minutes to start times:\n",
    "    if trimmed:\n",
    "        mins = mins[start_time:]\n",
    "\n",
    "    # preserve minutes attendance and duration average\n",
    "    minute_lists.append(mins.copy())"
   ]
  },
  {
   "source": [
    "#### for the single skype session"
   ],
   "cell_type": "markdown",
   "metadata": {}
  },
  {
   "source": [
    "# os.chdir(r\"C:\\Users\\Zjaffen1\\Desktop\\CSAM data\\attendance\")\n",
    "os.chdir(r\"C:\\Users\\Zack\\Desktop\\work\\T-Mobile\\data\\CSAM data\\attendance\")\n",
    "skype_data = pd.read_csv(r'Social Media Safety.csv', sep=\"\\t\")\n",
    "\n",
    "# add to existing trackers\n",
    "events.append(\"Social Media Safety\")\n",
    "\n",
    "# lower all emails for consistency\n",
    "skype_data['Email'] = skype_data['Email'].apply(lambda x: x.lower())\n",
    "\n",
    "emails = skype_data['Email'].unique()\n",
    "\n",
    "total_minutes = 0\n",
    "for email in emails:\n",
    "    if email.lower() not in u_emails and 'test' not in email.lower():\n",
    "        u_emails.append(email)\n",
    "\n",
    "total_minutes += skype_data['Time in Session (minutes)'].sum()\n",
    "\n",
    "minutes = skype_data['Time in Session (minutes)'].sum()\n",
    "\n",
    "print(total_minutes)"
   ],
   "cell_type": "markdown",
   "metadata": {}
  },
  {
   "source": [
    "counting how many attended multiple sessions"
   ],
   "cell_type": "markdown",
   "metadata": {}
  },
  {
   "cell_type": "code",
   "execution_count": null,
   "metadata": {},
   "outputs": [],
   "source": [
    "from collections import Counter\n",
    "import matplotlib.pyplot as plt\n",
    "import numpy\n",
    "sns.set()\n",
    "\n",
    "# create folder for output\n",
    "files_folder = current_dir + \"\\Output Files\"\n",
    "try:\n",
    "    if not os.path.exists(files_folder):\n",
    "        os.mkdir(files_folder)\n",
    "except:\n",
    "    print(\"Could not create new folder for output files; it may already exists.\")\n",
    "os.chdir(files_folder)\n",
    "\n",
    "def absolute_value(val):\n",
    "    a  = numpy.round(val/100.*sum(slices), 0)\n",
    "    return int(a)\n",
    "\n",
    "plt.figure(figsize=(15,15))\n",
    "res = Counter(num_attended.values())\n",
    "\n",
    "# plt.pie(slices, labels=labels2, autopct=absolute_value, textprops={'fontsize': 14})\n",
    "# plt.title('Number of Events Attended')\n",
    "# plt.savefig('Number of Events Attended.png')\n",
    "\n"
   ]
  },
  {
   "cell_type": "code",
   "execution_count": null,
   "metadata": {},
   "outputs": [],
   "source": [
    "data = pd.DataFrame.from_records(list(sorted(res.items())), columns=['events attended','num people'])\n",
    "# data = data.set_index('events attended', drop = True)\n",
    "\n",
    "pie, ax = plt.subplots(figsize=[12,12])\n",
    "wedges, labels, autopct = plt.pie(x=data['num people'], labels=data['events attended'], \n",
    "                                    autopct=absolute_value, explode=[0.02]*len(data['num people']), \n",
    "                                    pctdistance=0.9, textprops={'fontsize': 12}, counterclock=False)\n",
    "plt.setp(labels, fontsize=13, weight='bold')\n",
    "plt.title(\"Number of Events Attended\", fontsize=16, weight='bold')\n",
    "plt.savefig('Number of Events Attended.png')\n",
    "plt.show()\n",
    "\n",
    "# chart = data.plot.pie(y='num people', figsize =(15, 15), autopct=absolute_value, textprops={'fontsize': 12},\n",
    "#                 title='Number of Events Attended')\n",
    "# chart.suptitle('Number of Events Attended')"
   ]
  },
  {
   "cell_type": "code",
   "execution_count": null,
   "metadata": {},
   "outputs": [],
   "source": [
    "import plotly.graph_objects as go\n",
    "\n",
    "longest = len(max(minute_lists, key=len))\n",
    "# extend minute lists to be of same length\n",
    "for i in range(len(events)):\n",
    "    minute_lists[i].extend(np.full(longest-len(minute_lists[i]),np.nan))\n",
    "\n",
    "# CREATE DATA FRAME!!!\n",
    "df = pd.DataFrame()\n",
    "\n",
    "# name columns and assign minute attendances\n",
    "for i in range(len(events)):\n",
    "    df[events[i]] = minute_lists[i]\n",
    "\n",
    "fig = go.Figure([{\n",
    "    'x': df.index,\n",
    "    'y': df[col],\n",
    "    'name': col\n",
    "}  for col in df.columns])\n",
    "\n",
    "fig.update_layout(\n",
    "    autosize=False,\n",
    "    width=1200,\n",
    "    height=600)\n",
    "\n",
    "fig.update_xaxes(title_text='Time (minutes)')\n",
    "fig.update_yaxes(title_text='Attendees')\n",
    "fig.write_image(\"event attendance.png\")\n",
    "fig.show()"
   ]
  },
  {
   "source": [
    "### for exporting event stats to csv"
   ],
   "cell_type": "markdown",
   "metadata": {}
  },
  {
   "cell_type": "code",
   "execution_count": null,
   "metadata": {},
   "outputs": [],
   "source": [
    "# make dataframe to pair data and save to CSV\n",
    "stat_cols = [\"Event\", \"Attendees\", \"Avg Stay(min)\"]\n",
    "event_stats = pd.DataFrame(list(zip(events, num_attendees, avg_durations)), columns=stat_cols)\n",
    "event_stats.to_csv( \"Event Stats.csv\", index=False, encoding='utf-8-sig')\n"
   ]
  },
  {
   "cell_type": "code",
   "execution_count": null,
   "metadata": {},
   "outputs": [],
   "source": []
  }
 ]
}