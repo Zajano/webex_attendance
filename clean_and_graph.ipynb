{
 "metadata": {
  "language_info": {
   "codemirror_mode": {
    "name": "ipython",
    "version": 3
   },
   "file_extension": ".py",
   "mimetype": "text/x-python",
   "name": "python",
   "nbconvert_exporter": "python",
   "pygments_lexer": "ipython3",
   "version": "3.8.3-final"
  },
  "orig_nbformat": 2,
  "kernelspec": {
   "name": "python3",
   "display_name": "Python 3.8.3 64-bit (conda)",
   "metadata": {
    "interpreter": {
     "hash": "2487f29d041beb0d8628f3b8476575b3b503ae3d8a5f44c0c5b808e52fbe0125"
    }
   }
  }
 },
 "nbformat": 4,
 "nbformat_minor": 2,
 "cells": [
  {
   "source": [
    "## Clean and graph each CSV instead of combining"
   ],
   "cell_type": "markdown",
   "metadata": {}
  },
  {
   "source": [
    "#### setup"
   ],
   "cell_type": "markdown",
   "metadata": {}
  },
  {
   "cell_type": "code",
   "execution_count": 2,
   "metadata": {},
   "outputs": [],
   "source": [
    "import os, glob\n",
    "import pandas as pd\n",
    "import seaborn as sns\n",
    "import numpy as np\n",
    "\n",
    "# enter working directory for CSV files\n",
    "\n",
    "# personal\n",
    "os.chdir(r\"C:\\Users\\Zack\\Desktop\\work\\T-Mobile\\data\\CSAM data\\attendance\\LnLs\")\n",
    "# work\n",
    "# os.chdir(r\"C:\\Users\\Zjaffen1\\Desktop\\CSAM data\\attendance\\LnLs\")\n",
    "# os.chdir(r\"C:\\Users\\Zjaffen1\\Desktop\\CSAM data\\attendance\\webex\")"
   ]
  },
  {
   "source": [
    "#### get and check file names"
   ],
   "cell_type": "markdown",
   "metadata": {}
  },
  {
   "cell_type": "code",
   "execution_count": 3,
   "metadata": {},
   "outputs": [
    {
     "output_type": "stream",
     "name": "stdout",
     "text": [
      "Consumer Privacy.csv\nCyberwarfare.csv\nForgotten Passwords.csv\nHacker Stories.csv\nImprov Show.csv\nManaging Credentials.csv\nPAS and AIM Demo.csv\nPrivacy Matters.csv\nSecure Applications.csv\n"
     ]
    }
   ],
   "source": [
    "# build list of file names and check\n",
    "extension = 'csv'\n",
    "all_filenames = [i for i in glob.glob('*.{}'.format(extension))]\n",
    "\n",
    "# print list to check\n",
    "# DISABLE OR LIMIT RANGE if there are a lot of files\n",
    "for i in range(len(all_filenames)):\n",
    "    print(all_filenames[i])"
   ]
  },
  {
   "source": [
    "#### function for converting entry/leave times into int minute values"
   ],
   "cell_type": "markdown",
   "metadata": {}
  },
  {
   "cell_type": "code",
   "execution_count": 4,
   "metadata": {},
   "outputs": [],
   "source": [
    "def time_to_minutes(str_time):\n",
    "    ''' takes time string in format : '12:02 pm'\n",
    "        returns int of minutes      :  722'''\n",
    "\n",
    "    time, period= str_time.split(' ')\n",
    "    hour, minute = map(int, time.split(':'))\n",
    "    if period.lower() == 'pm' and hour < 12:\n",
    "        hour += 12\n",
    "    return hour*60 + minute"
   ]
  },
  {
   "source": [
    "#### create data frames for each CSV and clean"
   ],
   "cell_type": "markdown",
   "metadata": {}
  },
  {
   "cell_type": "code",
   "execution_count": 5,
   "metadata": {},
   "outputs": [],
   "source": [
    "# print(time_to_minutes(\"10:01 PM\"))\n",
    "# TODO: get start time for meetings, start graph then\n",
    "# TODO: determin 'stop' time"
   ]
  },
  {
   "cell_type": "code",
   "execution_count": 7,
   "metadata": {
    "tags": []
   },
   "outputs": [
    {
     "output_type": "stream",
     "name": "stdout",
     "text": [
      "[51.8, 53.87, 50.76, 50.7, 75.48, 45.74, 40.9, 45.96, 46.08]\n"
     ]
    }
   ],
   "source": [
    "\n",
    "# list of dataframes for attendance data\n",
    "file_df_list = [pd.read_csv(f, sep=\"\\t\", skiprows=[0,1], encoding=\"utf-16-le\") for f in all_filenames]\n",
    "\n",
    "# loop to clean data\n",
    "cols = []           # list of col names from files\n",
    "minute_lists = []   # list of attendence number (by the minute) lists\n",
    "num_attended = {}   # number of events attended by each person\n",
    "avg_durations = []  # average attendee stay in each event\n",
    "\n",
    "for i in range(len(all_filenames)):\n",
    "    # change event dates to names based on file names\n",
    "    file_df_list[i].rename(columns={\"Date\": \"Event\"}, inplace = True)\n",
    "    file_df_list[i]['Event'] = all_filenames[i][:len(all_filenames[i])-4]\n",
    "    cols.append(all_filenames[i][:len(all_filenames[i])-4])\n",
    "\n",
    "    # change 'Duration from string to int value\n",
    "    file_df_list[i]['Duration'] = file_df_list[i]['Duration'].apply(lambda x: int(x.split(' ')[0]))\n",
    "\n",
    "    # change start/stop time to minute value, lower all emails to same case\n",
    "    file_df_list[i]['Start time'] = file_df_list[i]['Start time'].apply(time_to_minutes)\n",
    "    file_df_list[i]['End time'] = file_df_list[i]['End time'].apply(time_to_minutes)\n",
    "    file_df_list[i]['Email'] = file_df_list[i]['Email'].apply(lambda x: x.lower())\n",
    "\n",
    "    # meeting start and end\n",
    "    start = file_df_list[i]['Start time'].min()\n",
    "    end = file_df_list[i]['End time'].max()\n",
    "    diff = end - start\n",
    "\n",
    "    # create absolute minutes columns\n",
    "    file_df_list[i]['Min Joined'] = file_df_list[i]['Start time'].apply(lambda x: x - start)\n",
    "    file_df_list[i]['Min Left'] = file_df_list[i]['End time'].apply(lambda x: x - start)\n",
    "\n",
    "    # initial minutes counter\n",
    "    diffs = [0] * (file_df_list[i]['Min Left'].max() + 1)\n",
    "    mins = [0] * (file_df_list[i]['Min Left'].max() + 1)\n",
    "\n",
    "    # check average length stayed\n",
    "    duration_total = 0\n",
    "    unique_joins = []\n",
    "\n",
    "    # iterate through attendees and add/subtract to minute attendance, track email attendance\n",
    "    for index, row in file_df_list[i].iterrows():\n",
    "        diffs[row['Min Joined']] += 1\n",
    "        diffs[row['Min Left']] -= 1\n",
    "        email = row['Email']\n",
    "        if email in num_attended:\n",
    "            if num_attended[email] < 9:\n",
    "                num_attended[email] += 1\n",
    "        else:\n",
    "            num_attended[email] = 1\n",
    "        \n",
    "        # length stayed per person\n",
    "        if email not in unique_joins:\n",
    "            unique_joins.append(email)\n",
    "        duration_total += row['Duration']\n",
    "    \n",
    "    # track average attendee stay for each meeting\n",
    "    avg_durations.append(round(duration_total/len(unique_joins), 2))\n",
    "    \n",
    "    # current attendees in meeting at specific minute\n",
    "    total = 0\n",
    "    for i in range(len(diffs)):\n",
    "        total += diffs[i]\n",
    "        mins[i] = total\n",
    "\n",
    "    # null-out last minute to prevent \"0\" on graph\n",
    "    mins[len(mins)-1] = np.nan\n",
    "\n",
    "    # preserve minutes attendance and duration average\n",
    "    minute_lists.append(mins.copy())\n",
    "\n",
    "print(avg_durations)"
   ]
  },
  {
   "source": [
    "#### for the single skype session"
   ],
   "cell_type": "markdown",
   "metadata": {}
  },
  {
   "cell_type": "code",
   "execution_count": null,
   "metadata": {},
   "outputs": [],
   "source": [
    "# os.chdir(r\"C:\\Users\\Zjaffen1\\Desktop\\CSAM data\\attendance\")\n",
    "os.chdir(r\"C:\\Users\\Zack\\Desktop\\work\\T-Mobile\\data\\CSAM data\\attendance\")\n",
    "skype_data = pd.read_csv(r'Social Media Safety.csv', sep=\"\\t\")\n",
    "\n",
    "# add to existing trackers\n",
    "cols.append(\"Social Media Safety\")\n",
    "\n",
    "# lower all emails for consistency\n",
    "skype_data['Email'] = skype_data['Email'].apply(lambda x: x.lower())\n",
    "\n",
    "emails = skype_data['Email'].unique()\n",
    "\n",
    "total_minutes = 0\n",
    "for email in emails:\n",
    "    if email.lower() not in u_emails and 'test' not in email.lower():\n",
    "        u_emails.append(email)\n",
    "\n",
    "total_minutes += skype_data['Time in Session (minutes)'].sum()\n",
    "\n",
    "minutes = skype_data['Time in Session (minutes)'].sum()\n",
    "\n",
    "print(total_minutes)"
   ]
  },
  {
   "source": [
    "counting how many attended multiple sessions"
   ],
   "cell_type": "markdown",
   "metadata": {}
  },
  {
   "cell_type": "code",
   "execution_count": null,
   "metadata": {},
   "outputs": [],
   "source": [
    "from collections import Counter\n",
    "import matplotlib.pyplot as plt\n",
    "import plotly.graph_objects as go\n",
    "import numpy\n",
    "\n",
    "def absolute_value(val):\n",
    "    a  = numpy.round(val/100.*sum(slices), 0)\n",
    "    return int(a)\n",
    "\n",
    "plt.figure(figsize=(10,10))\n",
    "res = Counter(num_attended.values())\n",
    "\n",
    "print(res)\n",
    "labels2 = []\n",
    "slices = []\n",
    "\n",
    "for key in res:\n",
    "    labels2.append(key)\n",
    "    slices.append(res[key])\n",
    "\n",
    "plt.pie(slices, labels=labels2, autopct=absolute_value)\n",
    "plt.title('Number of Events Attended')\n",
    "plt.savefig('Number of Events Attended.png')"
   ]
  },
  {
   "cell_type": "code",
   "execution_count": null,
   "metadata": {},
   "outputs": [],
   "source": [
    "longest = len(max(minute_lists, key=len))\n",
    "# extend minute lists to be of same length\n",
    "for i in range(len(cols)):\n",
    "    minute_lists[i].extend(np.full(longest-len(minute_lists[i]),np.nan))\n",
    "\n",
    "# CREATE DATA FRAME!!!\n",
    "df = pd.DataFrame()\n",
    "\n",
    "# name columns and assign minute attendances\n",
    "for i in range(len(cols)):\n",
    "    df[cols[i]] = minute_lists[i]\n",
    "\n",
    "df.head()\n",
    "\n",
    "fig = go.Figure([{\n",
    "    'x': df.index,\n",
    "    'y': df[col],\n",
    "    'name': col\n",
    "}  for col in df.columns])\n",
    "\n",
    "fig.update_xaxes(title_text='Time (minutes)')\n",
    "fig.update_yaxes(title_text='Attendees')\n",
    "fig.write_image(\"event attendance.png\")\n",
    "fig.show()"
   ]
  },
  {
   "source": [
    "### section for combining into one csv"
   ],
   "cell_type": "markdown",
   "metadata": {}
  },
  {
   "cell_type": "code",
   "execution_count": null,
   "metadata": {},
   "outputs": [],
   "source": [
    "# combine and export\n",
    "# combined_csv = pd.concat(file_df_list)\n",
    "# combined_csv.to_csv( \"combined_attendance.csv\", index=False, encoding='utf-8-sig')\n",
    "# print(\"success!!\")"
   ]
  },
  {
   "cell_type": "code",
   "execution_count": null,
   "metadata": {},
   "outputs": [],
   "source": [
    "import plotly.graph_objects as go\n",
    "\n",
    "lst0 = ['lst1', 'lst2', 'lst3']\n",
    "lst1 = [1,2,3,4,5,6,7,8,9,10,9,8,7,6,5,4]\n",
    "lst2 = [1,3,6,9,14,16,17,16,17,14,13,19,17,16,15,14,10,8,4,0]\n",
    "lst3 = [1,2,3,4,5,6,7,8,6,5,3]\n",
    "lst_lst = [lst1, lst2, lst3]\n",
    "\n",
    "df = pd.DataFrame()\n",
    "for i in range(len(lst0)):\n",
    "    lst_lst[i].extend(np.full(len(max(lst_lst))-len(lst_lst[i]),np.nan))\n",
    "\n",
    "for i in range(len(lst0)):\n",
    "    df[lst0[i]] = lst_lst[i]\n",
    "\n",
    "print(df.head())\n",
    "\n",
    "fig = go.Figure([{\n",
    "    'x': df.index,\n",
    "    'y': df[col],\n",
    "    'name': col\n",
    "}  for col in df.columns])\n",
    "\n",
    "fig.show()\n"
   ]
  },
  {
   "cell_type": "code",
   "execution_count": null,
   "metadata": {},
   "outputs": [],
   "source": [
    "lst0 = ['lst1', 'lst2', 'lst3']\n",
    "lst1 = [1,2,3,4,5,6,7,8,9,10,9,8,7,6,5,4]\n",
    "lst2 = [1,3,6,9,14,16,17,16,17,14,13,19,17,16,15,14,10,8,4,0]\n",
    "lst3 = [1,2,3,4,5,6,7,8,6,5,3]\n",
    "lst_lst = [lst1, lst2, lst3]\n",
    "\n",
    "print(len(max(lst_lst)))\n"
   ]
  },
  {
   "cell_type": "code",
   "execution_count": null,
   "metadata": {},
   "outputs": [],
   "source": []
  }
 ]
}