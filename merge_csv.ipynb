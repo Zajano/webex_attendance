{
 "metadata": {
  "language_info": {
   "codemirror_mode": {
    "name": "ipython",
    "version": 3
   },
   "file_extension": ".py",
   "mimetype": "text/x-python",
   "name": "python",
   "nbconvert_exporter": "python",
   "pygments_lexer": "ipython3",
   "version": "3.9.0-final"
  },
  "orig_nbformat": 2,
  "kernelspec": {
   "name": "Python 3.9.0 64-bit",
   "display_name": "Python 3.9.0 64-bit",
   "metadata": {
    "interpreter": {
     "hash": "1845ea34f35e372fc540615d137681b6f18545a73eee5eaf6e119f6eb11a98a0"
    }
   }
  }
 },
 "nbformat": 4,
 "nbformat_minor": 2,
 "cells": [
  {
   "source": [
    "## merge csv files by column"
   ],
   "cell_type": "markdown",
   "metadata": {}
  },
  {
   "source": [
    "#### setup"
   ],
   "cell_type": "markdown",
   "metadata": {}
  },
  {
   "cell_type": "code",
   "execution_count": 6,
   "metadata": {},
   "outputs": [],
   "source": [
    "import os, glob\n",
    "import pandas as pd\n",
    "\n",
    "# enter working directory for CSV files\n",
    "\n",
    "# personal\n",
    "#os.chdir(r\"C:\\Users\\Zack\\Desktop\\work\\T-Mobile\\CSAM\\meeting attendance\")\n",
    "# work\n",
    "os.chdir(r\"C:\\Users\\Zjaffen1\\Desktop\\CSAM data\\attendance\\webex\")"
   ]
  },
  {
   "source": [
    "#### get and check file names"
   ],
   "cell_type": "markdown",
   "metadata": {}
  },
  {
   "cell_type": "code",
   "execution_count": 7,
   "metadata": {},
   "outputs": [
    {
     "output_type": "stream",
     "name": "stdout",
     "text": [
      "Cyberwarfare.csv\nForgotten Passwords.csv\nHacker Stories.csv\nManaging Credentials.csv\nPAS and AIM Demo.csv\nPrivacy Matters.csv\nSecure Applications.csv\n"
     ]
    }
   ],
   "source": [
    "# build list of file names and check\n",
    "extension = 'csv'\n",
    "all_filenames = [i for i in glob.glob('*.{}'.format(extension))]\n",
    "\n",
    "# print list to check\n",
    "# DISABLE OR LIMIT RANGE if there are a lot of files\n",
    "for i in range(len(all_filenames)):\n",
    "    print(all_filenames[i])"
   ]
  },
  {
   "source": [
    "#### combine all files and export"
   ],
   "cell_type": "markdown",
   "metadata": {}
  },
  {
   "cell_type": "code",
   "execution_count": 9,
   "metadata": {},
   "outputs": [
    {
     "output_type": "stream",
     "name": "stdout",
     "text": [
      "success!!\n"
     ]
    }
   ],
   "source": [
    "# combine all files in the list\n",
    "\n",
    "\"\"\" garbage practice \"\"\"\n",
    "# combined_csv = pd.concat([pd.read_csv(f, sep=\"\\t\", skiprows=[0,1]) for f in all_filenames ])\n",
    "# headers = [\"Participant\",\"Name\",\"Email\",\"Date\",\"Invited\",\"Registered\",\"Start\",\"End\",\"Duration\",\"Title\",\"Phone\",\"Address 1\",\"Address 2\",\"City\",\"State\",\"Zip\",\"Country\",\"Network\"]\n",
    "# # df = pd.read_csv('SessionDetailReport20201023110741.csv', sep=\"\\t\", header=headers, skiprows=[0,1])\n",
    "# df = pd.read_csv('SessionDetailReport20201023110741.csv', sep=\"\\t\", skiprows=[0,1], encoding=\"utf-16-le\")\n",
    "# df.head()\n",
    "\n",
    "\n",
    "combined_csv = pd.concat([pd.read_csv(f, sep=\"\\t\", skiprows=[0,1], encoding=\"utf-16-le\") for f in all_filenames])\n",
    "\n",
    "# export to csv - CUSTOMIZE NAME\n",
    "combined_csv.to_csv( \"11_4_combined_attendance.csv\", index=False, encoding='utf-8-sig')\n",
    "\n",
    "print(\"success!!\")"
   ]
  },
  {
   "cell_type": "code",
   "execution_count": 12,
   "metadata": {},
   "outputs": [
    {
     "output_type": "stream",
     "name": "stdout",
     "text": [
      "59\n"
     ]
    }
   ],
   "source": [
    "print(len(r'<div class=\"ExternalClass2DC17B875393438281FB0A95EFD8B594\">'))"
   ]
  },
  {
   "cell_type": "code",
   "execution_count": null,
   "metadata": {},
   "outputs": [],
   "source": []
  }
 ]
}