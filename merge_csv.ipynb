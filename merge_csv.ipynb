{
 "metadata": {
  "language_info": {
   "codemirror_mode": {
    "name": "ipython",
    "version": 3
   },
   "file_extension": ".py",
   "mimetype": "text/x-python",
   "name": "python",
   "nbconvert_exporter": "python",
   "pygments_lexer": "ipython3",
   "version": "3.8.3-final"
  },
  "orig_nbformat": 2,
  "kernelspec": {
   "name": "Python 3.8.3 64-bit ('base': conda)",
   "display_name": "Python 3.8.3 64-bit ('base': conda)",
   "metadata": {
    "interpreter": {
     "hash": "2487f29d041beb0d8628f3b8476575b3b503ae3d8a5f44c0c5b808e52fbe0125"
    }
   }
  }
 },
 "nbformat": 4,
 "nbformat_minor": 2,
 "cells": [
  {
   "source": [
    "### merge csv files by column"
   ],
   "cell_type": "markdown",
   "metadata": {}
  },
  {
   "source": [
    "#### setup"
   ],
   "cell_type": "markdown",
   "metadata": {}
  },
  {
   "cell_type": "code",
   "execution_count": 1,
   "metadata": {},
   "outputs": [],
   "source": [
    "import os, glob\n",
    "import pandas as pd\n",
    "\n",
    "# enter working directory for CSV files\n",
    "\n",
    "# personal\n",
    "#os.chdir(r\"C:\\Users\\Zack\\Desktop\\work\\T-Mobile\\CSAM\\meeting attendance\")\n",
    "# work\n",
    "os.chdir(r\"C:\\Users\\Zjaffen1\\Desktop\\CSAM data\\attendance\")"
   ]
  },
  {
   "source": [
    "#### get and check file names"
   ],
   "cell_type": "markdown",
   "metadata": {}
  },
  {
   "cell_type": "code",
   "execution_count": 3,
   "metadata": {},
   "outputs": [
    {
     "output_type": "stream",
     "name": "stdout",
     "text": [
      "SessionDetailReport20201013110630.csv\nSessionDetailReport20201013110953.csv\nSessionDetailReport20201023110741.csv\nSessionDetailReport20201023110828.csv\n"
     ]
    }
   ],
   "source": [
    "# build list of file names and check\n",
    "extension = 'csv'\n",
    "all_filenames = [i for i in glob.glob('*.{}'.format(extension))]\n",
    "\n",
    "# print list to check\n",
    "# DISABLE OR LIMIT RANGE if there are a lot of files\n",
    "for i in range(len(all_filenames)):\n",
    "    print(all_filenames[i])"
   ]
  },
  {
   "source": [
    "#### combine all files and export"
   ],
   "cell_type": "markdown",
   "metadata": {}
  },
  {
   "cell_type": "code",
   "execution_count": 4,
   "metadata": {},
   "outputs": [],
   "source": [
    "# combine all files in the list\n",
    "\n",
    "\"\"\" garbage practice \"\"\"\n",
    "# combined_csv = pd.concat([pd.read_csv(f, sep=\"\\t\", skiprows=[0,1]) for f in all_filenames ])\n",
    "# headers = [\"Participant\",\"Name\",\"Email\",\"Date\",\"Invited\",\"Registered\",\"Start\",\"End\",\"Duration\",\"Title\",\"Phone\",\"Address 1\",\"Address 2\",\"City\",\"State\",\"Zip\",\"Country\",\"Network\"]\n",
    "# # df = pd.read_csv('SessionDetailReport20201023110741.csv', sep=\"\\t\", header=headers, skiprows=[0,1])\n",
    "# df = pd.read_csv('SessionDetailReport20201023110741.csv', sep=\"\\t\", skiprows=[0,1], encoding=\"utf-16-le\")\n",
    "# df.head()\n",
    "\n",
    "\n",
    "combined_csv = pd.concat([pd.read_csv(f, sep=\"\\t\", skiprows=[0,1], encoding=\"utf-16-le\") for f in all_filenames ])\n",
    "\n",
    "# export to csv - CUSTOMIZE NAME\n",
    "combined_csv.to_csv( \"combined_attendance.csv\", index=False, encoding='utf-8-sig')\n",
    "\n",
    "print(\"success!!\")"
   ]
  },
  {
   "cell_type": "code",
   "execution_count": null,
   "metadata": {},
   "outputs": [],
   "source": []
  }
 ]
}