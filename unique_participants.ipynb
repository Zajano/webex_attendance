{
 "metadata": {
  "language_info": {
   "codemirror_mode": {
    "name": "ipython",
    "version": 3
   },
   "file_extension": ".py",
   "mimetype": "text/x-python",
   "name": "python",
   "nbconvert_exporter": "python",
   "pygments_lexer": "ipython3",
   "version": "3.8.3-final"
  },
  "orig_nbformat": 2,
  "kernelspec": {
   "name": "python3",
   "display_name": "Python 3"
  }
 },
 "nbformat": 4,
 "nbformat_minor": 2,
 "cells": [
  {
   "source": [
    "# gets unique emails captured from various participation methods"
   ],
   "cell_type": "markdown",
   "metadata": {}
  },
  {
   "source": [
    "### setup"
   ],
   "cell_type": "markdown",
   "metadata": {}
  },
  {
   "cell_type": "code",
   "execution_count": 1,
   "metadata": {},
   "outputs": [],
   "source": [
    "import os, glob\n",
    "import pandas as pd\n",
    "import csv"
   ]
  },
  {
   "source": [
    "### from sharepoint registration"
   ],
   "cell_type": "markdown",
   "metadata": {}
  },
  {
   "cell_type": "code",
   "execution_count": 2,
   "metadata": {},
   "outputs": [
    {
     "output_type": "stream",
     "name": "stdout",
     "text": [
      "1398\n"
     ]
    }
   ],
   "source": [
    "# track current and unique emails\n",
    "u_emails = []\n",
    "emails = []\n",
    "\n",
    "os.chdir(r\"C:\\Users\\Zjaffen1\\Desktop\\CSAM data\")\n",
    "sp_data = pd.read_csv(r'SP_registration.csv')\n",
    "emails = sp_data['E-Mail'].unique()\n",
    "\n",
    "for email in emails:\n",
    "    if email.lower() not in u_emails and 'test' not in email.lower():\n",
    "        u_emails.append(email)\n",
    "\n",
    "print(len(u_emails))"
   ]
  },
  {
   "source": [
    "### from LivingSecurity leaderboard/signups"
   ],
   "cell_type": "markdown",
   "metadata": {}
  },
  {
   "cell_type": "code",
   "execution_count": 3,
   "metadata": {},
   "outputs": [
    {
     "output_type": "stream",
     "name": "stdout",
     "text": [
      "1856\n"
     ]
    }
   ],
   "source": [
    "ls_data = pd.read_csv(r'ls_leaderboard.csv')\n",
    "emails = ls_data['email'].unique()\n",
    "\n",
    "for email in emails:\n",
    "    if email.lower() not in u_emails and 'test' not in email.lower():\n",
    "        u_emails.append(email)\n",
    "\n",
    "print(len(u_emails))"
   ]
  },
  {
   "source": [
    "### from Cyber Escape"
   ],
   "cell_type": "markdown",
   "metadata": {}
  },
  {
   "cell_type": "code",
   "execution_count": 4,
   "metadata": {},
   "outputs": [
    {
     "output_type": "stream",
     "name": "stdout",
     "text": [
      "2017\n"
     ]
    }
   ],
   "source": [
    "fileHandle = open(r'escape_participants.csv', 'r')\n",
    "\n",
    "for line in fileHandle:\n",
    "    emails = line.split('|')\n",
    "\n",
    "fileHandle.close()\n",
    "\n",
    "for email in emails:\n",
    "    if email.lower() not in u_emails and 'test' not in email.lower():\n",
    "        u_emails.append(email)\n",
    "\n",
    "print(len(u_emails))"
   ]
  },
  {
   "source": [
    "### from LS skype event (Social Media Safety)"
   ],
   "cell_type": "markdown",
   "metadata": {}
  },
  {
   "cell_type": "code",
   "execution_count": 5,
   "metadata": {},
   "outputs": [
    {
     "output_type": "error",
     "ename": "NameError",
     "evalue": "name 'total_minutes' is not defined",
     "traceback": [
      "\u001b[1;31m---------------------------------------------------------------------------\u001b[0m",
      "\u001b[1;31mNameError\u001b[0m                                 Traceback (most recent call last)",
      "\u001b[1;32m<ipython-input-5-6d5a383a18b3>\u001b[0m in \u001b[0;36m<module>\u001b[1;34m\u001b[0m\n\u001b[0;32m      7\u001b[0m         \u001b[0mu_emails\u001b[0m\u001b[1;33m.\u001b[0m\u001b[0mappend\u001b[0m\u001b[1;33m(\u001b[0m\u001b[0memail\u001b[0m\u001b[1;33m)\u001b[0m\u001b[1;33m\u001b[0m\u001b[1;33m\u001b[0m\u001b[0m\n\u001b[0;32m      8\u001b[0m \u001b[1;33m\u001b[0m\u001b[0m\n\u001b[1;32m----> 9\u001b[1;33m \u001b[0mtotal_minutes\u001b[0m \u001b[1;33m+=\u001b[0m \u001b[0mskype_data\u001b[0m\u001b[1;33m[\u001b[0m\u001b[1;34m'Time in Session (minutes)'\u001b[0m\u001b[1;33m]\u001b[0m\u001b[1;33m.\u001b[0m\u001b[0msum\u001b[0m\u001b[1;33m(\u001b[0m\u001b[1;33m)\u001b[0m\u001b[1;33m\u001b[0m\u001b[1;33m\u001b[0m\u001b[0m\n\u001b[0m\u001b[0;32m     10\u001b[0m \u001b[1;33m\u001b[0m\u001b[0m\n\u001b[0;32m     11\u001b[0m \u001b[0mminutes\u001b[0m \u001b[1;33m=\u001b[0m \u001b[0mskype_data\u001b[0m\u001b[1;33m[\u001b[0m\u001b[1;34m'Time in Session (minutes)'\u001b[0m\u001b[1;33m]\u001b[0m\u001b[1;33m.\u001b[0m\u001b[0msum\u001b[0m\u001b[1;33m(\u001b[0m\u001b[1;33m)\u001b[0m\u001b[1;33m\u001b[0m\u001b[1;33m\u001b[0m\u001b[0m\n",
      "\u001b[1;31mNameError\u001b[0m: name 'total_minutes' is not defined"
     ]
    }
   ],
   "source": [
    "os.chdir(r\"C:\\Users\\Zjaffen1\\Desktop\\CSAM data\\attendance\")\n",
    "skype_data = pd.read_csv(r'Social Media Safety.csv', sep=\"\\t\")\n",
    "emails = skype_data['Email'].unique()\n",
    "\n",
    "total_minutes = 0\n",
    "for email in emails:\n",
    "    if email.lower() not in u_emails and 'test' not in email.lower():\n",
    "        u_emails.append(email)\n",
    "\n",
    "total_minutes += skype_data['Time in Session (minutes)'].sum()\n",
    "\n",
    "minutes = skype_data['Time in Session (minutes)'].sum()\n",
    "\n",
    "print(total_minutes)"
   ]
  },
  {
   "source": [
    "### for all of our own WebEx events (LnLs and guest speakers)"
   ],
   "cell_type": "markdown",
   "metadata": {}
  },
  {
   "cell_type": "code",
   "execution_count": 6,
   "metadata": {},
   "outputs": [
    {
     "output_type": "error",
     "ename": "NameError",
     "evalue": "name 'total_minutes' is not defined",
     "traceback": [
      "\u001b[1;31m---------------------------------------------------------------------------\u001b[0m",
      "\u001b[1;31mNameError\u001b[0m                                 Traceback (most recent call last)",
      "\u001b[1;32m<ipython-input-6-aa45617874a5>\u001b[0m in \u001b[0;36m<module>\u001b[1;34m\u001b[0m\n\u001b[0;32m     24\u001b[0m     \u001b[1;31m# get min integer from 'duration min' string\u001b[0m\u001b[1;33m\u001b[0m\u001b[1;33m\u001b[0m\u001b[1;33m\u001b[0m\u001b[0m\n\u001b[0;32m     25\u001b[0m     \u001b[0mfile_df_list\u001b[0m\u001b[1;33m[\u001b[0m\u001b[0mi\u001b[0m\u001b[1;33m]\u001b[0m\u001b[1;33m[\u001b[0m\u001b[1;34m'Duration'\u001b[0m\u001b[1;33m]\u001b[0m \u001b[1;33m=\u001b[0m \u001b[0mfile_df_list\u001b[0m\u001b[1;33m[\u001b[0m\u001b[0mi\u001b[0m\u001b[1;33m]\u001b[0m\u001b[1;33m[\u001b[0m\u001b[1;34m'Duration'\u001b[0m\u001b[1;33m]\u001b[0m\u001b[1;33m.\u001b[0m\u001b[0mapply\u001b[0m\u001b[1;33m(\u001b[0m\u001b[1;32mlambda\u001b[0m \u001b[0mx\u001b[0m\u001b[1;33m:\u001b[0m \u001b[0mint\u001b[0m\u001b[1;33m(\u001b[0m\u001b[0mx\u001b[0m\u001b[1;33m.\u001b[0m\u001b[0msplit\u001b[0m\u001b[1;33m(\u001b[0m\u001b[1;34m' '\u001b[0m\u001b[1;33m)\u001b[0m\u001b[1;33m[\u001b[0m\u001b[1;36m0\u001b[0m\u001b[1;33m]\u001b[0m\u001b[1;33m)\u001b[0m\u001b[1;33m)\u001b[0m\u001b[1;33m\u001b[0m\u001b[1;33m\u001b[0m\u001b[0m\n\u001b[1;32m---> 26\u001b[1;33m     \u001b[0mtotal_minutes\u001b[0m \u001b[1;33m+=\u001b[0m \u001b[0mfile_df_list\u001b[0m\u001b[1;33m[\u001b[0m\u001b[0mi\u001b[0m\u001b[1;33m]\u001b[0m\u001b[1;33m[\u001b[0m\u001b[1;34m'Duration'\u001b[0m\u001b[1;33m]\u001b[0m\u001b[1;33m.\u001b[0m\u001b[0msum\u001b[0m\u001b[1;33m(\u001b[0m\u001b[1;33m)\u001b[0m\u001b[1;33m\u001b[0m\u001b[1;33m\u001b[0m\u001b[0m\n\u001b[0m\u001b[0;32m     27\u001b[0m \u001b[1;33m\u001b[0m\u001b[0m\n\u001b[0;32m     28\u001b[0m \u001b[0mprint\u001b[0m\u001b[1;33m(\u001b[0m\u001b[0mtotal_minutes\u001b[0m\u001b[1;33m)\u001b[0m\u001b[1;33m\u001b[0m\u001b[1;33m\u001b[0m\u001b[0m\n",
      "\u001b[1;31mNameError\u001b[0m: name 'total_minutes' is not defined"
     ]
    }
   ],
   "source": [
    "# folder with csv data from WebEx events\n",
    "os.chdir(r\"C:\\Users\\Zjaffen1\\Desktop\\CSAM data\\attendance\\LnLs\")\n",
    "\n",
    "# create list of events (based off files names)\n",
    "extension = 'csv'\n",
    "all_filenames = [i for i in glob.glob('*.{}'.format(extension))]\n",
    "\n",
    "# print list to check\n",
    "# DISABLE OR LIMIT RANGE if there are a lot of files\n",
    "# for i in range(len(all_filenames)):\n",
    "#     print(all_filenames[i])\n",
    "\n",
    "# create dataframe for each webex CSV\n",
    "file_df_list = [pd.read_csv(f, sep=\"\\t\", skiprows=[0,1], encoding=\"utf-16-le\") for f in all_filenames]\n",
    "\n",
    "# for each data frame in list\n",
    "for i in range(len(all_filenames)):\n",
    "    # change event dates to names based on file names\n",
    "    emails = file_df_list[i]['Email'].unique()\n",
    "    for email in emails:\n",
    "        if email.lower() not in u_emails and 'test' not in email.lower():\n",
    "            u_emails.append(email)\n",
    "    \n",
    "    # get min integer from 'duration min' string\n",
    "    file_df_list[i]['Duration'] = file_df_list[i]['Duration'].apply(lambda x: int(x.split(' ')[0]))\n",
    "    total_minutes += file_df_list[i]['Duration'].sum()\n",
    "\n",
    "print(total_minutes)\n",
    "\n",
    "hours = total_minutes / 60\n",
    "\n",
    "print(hours)\n",
    "\n",
    "\n",
    "\n"
   ]
  },
  {
   "source": [
    "### export list to new file"
   ],
   "cell_type": "markdown",
   "metadata": {}
  },
  {
   "cell_type": "code",
   "execution_count": null,
   "metadata": {},
   "outputs": [],
   "source": [
    "# current directory\n",
    "os.chdir(r\"C:\\Users\\Zjaffen1\\Desktop\\CSAM data\")\n",
    "\n",
    "# file name, will be written in current directory\n",
    "file_name = \"unique_participants.csv\"\n",
    "\n",
    "# write file\n",
    "with open(file_name, 'w', newline='') as f:\n",
    "    writer = csv.writer(f)\n",
    "    # column header\n",
    "    writer.writerow(['email'])\n",
    "    for email in u_emails:\n",
    "        writer.writerow([email])\n",
    "\n",
    "    f.close()"
   ]
  },
  {
   "cell_type": "code",
   "execution_count": null,
   "metadata": {},
   "outputs": [],
   "source": []
  }
 ]
}