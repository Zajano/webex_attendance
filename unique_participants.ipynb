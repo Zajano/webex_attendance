{
 "metadata": {
  "language_info": {
   "codemirror_mode": {
    "name": "ipython",
    "version": 3
   },
   "file_extension": ".py",
   "mimetype": "text/x-python",
   "name": "python",
   "nbconvert_exporter": "python",
   "pygments_lexer": "ipython3",
   "version": "3.8.3-final"
  },
  "orig_nbformat": 2,
  "kernelspec": {
   "name": "python3",
   "display_name": "Python 3"
  }
 },
 "nbformat": 4,
 "nbformat_minor": 2,
 "cells": [
  {
   "source": [
    "# gets unique emails captured from various participation methods"
   ],
   "cell_type": "markdown",
   "metadata": {}
  },
  {
   "source": [
    "### setup"
   ],
   "cell_type": "markdown",
   "metadata": {}
  },
  {
   "cell_type": "code",
   "execution_count": 16,
   "metadata": {},
   "outputs": [],
   "source": [
    "import os, glob\n",
    "import pandas as pd\n",
    "import csv"
   ]
  },
  {
   "source": [
    "### from sharepoint registration"
   ],
   "cell_type": "markdown",
   "metadata": {}
  },
  {
   "cell_type": "code",
   "execution_count": 17,
   "metadata": {},
   "outputs": [
    {
     "output_type": "stream",
     "name": "stdout",
     "text": [
      "1384\n"
     ]
    }
   ],
   "source": [
    "# track current and unique emails\n",
    "u_emails = []\n",
    "emails = []\n",
    "\n",
    "# os.chdir(r\"C:\\Users\\Zjaffen1\\Desktop\\CSAM data\")\n",
    "os.chdir(r\"C:\\Users\\Zack\\Desktop\\work\\T-Mobile\\data\\CSAM data\")\n",
    "sp_data = pd.read_csv(r'sp_registration.csv')\n",
    "sp_data['E-Mail'] = sp_data['E-Mail'].apply(lambda x: x.lower())\n",
    "emails = sp_data['E-Mail'].unique()\n",
    "\n",
    "for email in emails:\n",
    "    if email not in u_emails and 'test' not in email:\n",
    "        u_emails.append(email)\n",
    "\n",
    "print(len(u_emails))"
   ]
  },
  {
   "source": [
    "### from LivingSecurity leaderboard/signups"
   ],
   "cell_type": "markdown",
   "metadata": {}
  },
  {
   "cell_type": "code",
   "execution_count": 18,
   "metadata": {},
   "outputs": [
    {
     "output_type": "stream",
     "name": "stdout",
     "text": [
      "1740\n"
     ]
    }
   ],
   "source": [
    "ls_data = pd.read_csv(r'ls_leaderboard.csv')\n",
    "ls_data['email'] = ls_data['email'].apply(lambda x: x.lower())\n",
    "emails = ls_data['email'].unique()\n",
    "\n",
    "for email in emails:\n",
    "    if email not in u_emails and 'test' not in email:\n",
    "        u_emails.append(email)\n",
    "\n",
    "print(len(u_emails))"
   ]
  },
  {
   "source": [
    "### from Cyber Escape"
   ],
   "cell_type": "markdown",
   "metadata": {}
  },
  {
   "cell_type": "code",
   "execution_count": 19,
   "metadata": {},
   "outputs": [
    {
     "output_type": "stream",
     "name": "stdout",
     "text": [
      "280\n"
     ]
    }
   ],
   "source": [
    "fileHandle = open(r'escape_participants.csv', 'r')\n",
    "\n",
    "for line in fileHandle:\n",
    "    emails = line.split('|')\n",
    "\n",
    "fileHandle.close()\n",
    "\n",
    "uniques = []\n",
    "for email in emails:\n",
    "    email = email.lower()\n",
    "    if email not in u_emails and 'test' not in email:\n",
    "        u_emails.append(email)\n",
    "    if email not in uniques:\n",
    "        uniques.append(email)\n",
    "\n",
    "# just from cyber escape\n",
    "print(len(uniques))"
   ]
  },
  {
   "source": [
    "### from LS skype event (Social Media Safety)"
   ],
   "cell_type": "markdown",
   "metadata": {}
  },
  {
   "cell_type": "code",
   "execution_count": 20,
   "metadata": {},
   "outputs": [
    {
     "output_type": "stream",
     "name": "stdout",
     "text": [
      "[44.25]\n7611\n"
     ]
    }
   ],
   "source": [
    "# os.chdir(r\"C:\\Users\\Zjaffen1\\Desktop\\CSAM data\\attendance\")\n",
    "os.chdir(r\"C:\\Users\\Zack\\Desktop\\work\\T-Mobile\\data\\CSAM data\\attendance\")\n",
    "skype_data = pd.read_csv(r'Social Media Safety.csv', sep=\"\\t\")\n",
    "\n",
    "# lower all emails for consistency\n",
    "skype_data['Email'] = skype_data['Email'].apply(lambda x: x.lower())\n",
    "\n",
    "emails = skype_data['Email'].unique()\n",
    "\n",
    "for email in emails:\n",
    "    if email not in u_emails and 'test' not in email:\n",
    "        u_emails.append(email)\n",
    "\n",
    "\n",
    "# time spent in events \n",
    "total_minutes = 0\n",
    "avg_minutes = []    # list of average time spent in each event\n",
    "events = []         # list of event names\n",
    "\n",
    "total_minutes += skype_data['Time in Session (minutes)'].sum()\n",
    "\n",
    "avg_minutes.append(skype_data['Time in Session (minutes)'].sum() / len(emails))\n",
    "events.append(\"Social Media Safety\")\n",
    "\n",
    "print(avg_minutes)\n",
    "print(total_minutes)"
   ]
  },
  {
   "source": [
    "### for all of our own WebEx events (LnLs and guest speakers)"
   ],
   "cell_type": "markdown",
   "metadata": {}
  },
  {
   "cell_type": "code",
   "execution_count": 22,
   "metadata": {
    "tags": []
   },
   "outputs": [
    {
     "output_type": "stream",
     "name": "stdout",
     "text": [
      "102263\n1704.3833333333334\n['Social Media Safety', 'Consumer Privacy', 'Cyberwarfare', 'Forgotten Passwords', 'Hacker Stories', 'Improv Show', 'Managing Credentials', 'PAS and AIM Demo', 'Privacy Matters', 'Secure Applications']\n[44.25, 51.8, 53.87, 50.76, 50.7, 75.48, 45.74, 40.9, 45.96, 46.08]\n"
     ]
    }
   ],
   "source": [
    "# folder with csv data from WebEx events\n",
    "# os.chdir(r\"C:\\Users\\Zjaffen1\\Desktop\\CSAM data\\attendance\\LnLs\")\n",
    "os.chdir(r\"C:\\Users\\Zack\\Desktop\\work\\T-Mobile\\data\\CSAM data\\attendance\\LnLs\")\n",
    "\n",
    "# create list of events (based off files names)\n",
    "extension = 'csv'\n",
    "all_filenames = [i for i in glob.glob('*.{}'.format(extension))]\n",
    "\n",
    "# print list to check\n",
    "# DISABLE OR LIMIT RANGE if there are a lot of files\n",
    "# for i in range(len(all_filenames)):\n",
    "#     print(all_filenames[i])\n",
    "\n",
    "# create dataframe for each webex CSV\n",
    "file_df_list = [pd.read_csv(f, sep=\"\\t\", skiprows=[0,1], encoding=\"utf-16-le\") for f in all_filenames]\n",
    "\n",
    "# for each data frame in list\n",
    "for i in range(len(all_filenames)):\n",
    "    uniques = 0\n",
    "    durations = []\n",
    "    file_df_list[i]['Email'] = file_df_list[i]['Email'].apply(lambda x: x.lower())\n",
    "    file_df_list[i]['Duration'] = file_df_list[i]['Duration'].apply(lambda x: int(x.split(' ')[0]))\n",
    "    emails = file_df_list[i]['Email'].unique()\n",
    "    for email in emails:\n",
    "        uniques += 1\n",
    "        if email not in u_emails and 'test' not in email:\n",
    "            u_emails.append(email)\n",
    "\n",
    "    # for index, row in file_df_list[i].iterrows():\n",
    "    #     durations.append(row['Duration'])\n",
    "\n",
    "    # print(all_filenames[i][:len(all_filenames[i])-4])\n",
    "    # print(durations)\n",
    "\n",
    "    # get min integer from 'duration min' string, track averages\n",
    "    total = file_df_list[i]['Duration'].sum()\n",
    "    avg_time = round((total / uniques), 2)\n",
    "    avg_minutes.append(avg_time)\n",
    "    events.append(all_filenames[i][:len(all_filenames[i])-4])\n",
    "    total_minutes += total\n",
    "\n",
    "# time spent participating\n",
    "print(total_minutes)\n",
    "hours = total_minutes / 60\n",
    "print(hours)\n",
    "\n",
    "print(events)\n",
    "print(avg_minutes)"
   ]
  },
  {
   "source": [
    "### export list to new file"
   ],
   "cell_type": "markdown",
   "metadata": {}
  },
  {
   "cell_type": "code",
   "execution_count": null,
   "metadata": {},
   "outputs": [],
   "source": [
    "# current directory\n",
    "os.chdir(r\"C:\\Users\\Zjaffen1\\Desktop\\CSAM data\")\n",
    "\n",
    "# file name, will be written in current directory\n",
    "file_name = \"unique_participants.csv\"\n",
    "\n",
    "# write file\n",
    "with open(file_name, 'w', newline='') as f:\n",
    "    writer = csv.writer(f)\n",
    "    # column header\n",
    "    writer.writerow(['email'])\n",
    "    for email in u_emails:\n",
    "        writer.writerow([email])\n",
    "\n",
    "    f.close()"
   ]
  },
  {
   "cell_type": "code",
   "execution_count": null,
   "metadata": {},
   "outputs": [],
   "source": []
  }
 ]
}